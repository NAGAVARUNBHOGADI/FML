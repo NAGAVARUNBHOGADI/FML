{
  "nbformat": 4,
  "nbformat_minor": 0,
  "metadata": {
    "colab": {
      "name": "KNN diabetes",
      "provenance": [],
      "authorship_tag": "ABX9TyOIB/IDQsG2D9WOF0wCymVm",
      "include_colab_link": true
    },
    "kernelspec": {
      "name": "python3",
      "display_name": "Python 3"
    },
    "language_info": {
      "name": "python"
    }
  },
  "cells": [
    {
      "cell_type": "markdown",
      "metadata": {
        "id": "view-in-github",
        "colab_type": "text"
      },
      "source": [
        "<a href=\"https://colab.research.google.com/github/NAGAVARUNBHOGADI/FML/blob/main/KNN_diabetes.ipynb\" target=\"_parent\"><img src=\"https://colab.research.google.com/assets/colab-badge.svg\" alt=\"Open In Colab\"/></a>"
      ]
    },
    {
      "cell_type": "code",
      "execution_count": 2,
      "metadata": {
        "id": "KXnB3IkJGnaU"
      },
      "outputs": [],
      "source": [
        "#import the packages\n",
        "\n",
        "import matplotlib.pyplot as plt\n",
        "import numpy as np\n",
        "from sklearn.datasets import load_diabetes\n",
        "from sklearn.neighbors import KNeighborsClassifier\n",
        "from sklearn.metrics import classification_report, confusion_matrix\n",
        "from sklearn.model_selection import train_test_split\n",
        "from sklearn.preprocessing import StandardScaler"
      ]
    },
    {
      "cell_type": "code",
      "source": [
        "d=load_diabetes()"
      ],
      "metadata": {
        "id": "4mfsLPiSGwQy"
      },
      "execution_count": 5,
      "outputs": []
    },
    {
      "cell_type": "code",
      "source": [
        "d.data[:5]"
      ],
      "metadata": {
        "colab": {
          "base_uri": "https://localhost:8080/"
        },
        "id": "xyIjUpP0G592",
        "outputId": "b96692b7-3265-4365-9def-3699deb54bd7"
      },
      "execution_count": 7,
      "outputs": [
        {
          "output_type": "execute_result",
          "data": {
            "text/plain": [
              "array([[ 0.03807591,  0.05068012,  0.06169621,  0.02187235, -0.0442235 ,\n",
              "        -0.03482076, -0.04340085, -0.00259226,  0.01990842, -0.01764613],\n",
              "       [-0.00188202, -0.04464164, -0.05147406, -0.02632783, -0.00844872,\n",
              "        -0.01916334,  0.07441156, -0.03949338, -0.06832974, -0.09220405],\n",
              "       [ 0.08529891,  0.05068012,  0.04445121, -0.00567061, -0.04559945,\n",
              "        -0.03419447, -0.03235593, -0.00259226,  0.00286377, -0.02593034],\n",
              "       [-0.08906294, -0.04464164, -0.01159501, -0.03665645,  0.01219057,\n",
              "         0.02499059, -0.03603757,  0.03430886,  0.02269202, -0.00936191],\n",
              "       [ 0.00538306, -0.04464164, -0.03638469,  0.02187235,  0.00393485,\n",
              "         0.01559614,  0.00814208, -0.00259226, -0.03199144, -0.04664087]])"
            ]
          },
          "metadata": {},
          "execution_count": 7
        }
      ]
    },
    {
      "cell_type": "code",
      "source": [
        "d.feature_names"
      ],
      "metadata": {
        "colab": {
          "base_uri": "https://localhost:8080/"
        },
        "id": "9NahtwrhHKor",
        "outputId": "1ece6584-fe24-40d4-dd68-cbfe56f8c21d"
      },
      "execution_count": 8,
      "outputs": [
        {
          "output_type": "execute_result",
          "data": {
            "text/plain": [
              "['age', 'sex', 'bmi', 'bp', 's1', 's2', 's3', 's4', 's5', 's6']"
            ]
          },
          "metadata": {},
          "execution_count": 8
        }
      ]
    },
    {
      "cell_type": "code",
      "source": [
        "d.target"
      ],
      "metadata": {
        "colab": {
          "base_uri": "https://localhost:8080/"
        },
        "id": "X1lgmGI0HOBy",
        "outputId": "2fb0a3bc-ea69-4f76-f203-19c350b76ba8"
      },
      "execution_count": 9,
      "outputs": [
        {
          "output_type": "execute_result",
          "data": {
            "text/plain": [
              "array([151.,  75., 141., 206., 135.,  97., 138.,  63., 110., 310., 101.,\n",
              "        69., 179., 185., 118., 171., 166., 144.,  97., 168.,  68.,  49.,\n",
              "        68., 245., 184., 202., 137.,  85., 131., 283., 129.,  59., 341.,\n",
              "        87.,  65., 102., 265., 276., 252.,  90., 100.,  55.,  61.,  92.,\n",
              "       259.,  53., 190., 142.,  75., 142., 155., 225.,  59., 104., 182.,\n",
              "       128.,  52.,  37., 170., 170.,  61., 144.,  52., 128.,  71., 163.,\n",
              "       150.,  97., 160., 178.,  48., 270., 202., 111.,  85.,  42., 170.,\n",
              "       200., 252., 113., 143.,  51.,  52., 210.,  65., 141.,  55., 134.,\n",
              "        42., 111.,  98., 164.,  48.,  96.,  90., 162., 150., 279.,  92.,\n",
              "        83., 128., 102., 302., 198.,  95.,  53., 134., 144., 232.,  81.,\n",
              "       104.,  59., 246., 297., 258., 229., 275., 281., 179., 200., 200.,\n",
              "       173., 180.,  84., 121., 161.,  99., 109., 115., 268., 274., 158.,\n",
              "       107.,  83., 103., 272.,  85., 280., 336., 281., 118., 317., 235.,\n",
              "        60., 174., 259., 178., 128.,  96., 126., 288.,  88., 292.,  71.,\n",
              "       197., 186.,  25.,  84.,  96., 195.,  53., 217., 172., 131., 214.,\n",
              "        59.,  70., 220., 268., 152.,  47.,  74., 295., 101., 151., 127.,\n",
              "       237., 225.,  81., 151., 107.,  64., 138., 185., 265., 101., 137.,\n",
              "       143., 141.,  79., 292., 178.,  91., 116.,  86., 122.,  72., 129.,\n",
              "       142.,  90., 158.,  39., 196., 222., 277.,  99., 196., 202., 155.,\n",
              "        77., 191.,  70.,  73.,  49.,  65., 263., 248., 296., 214., 185.,\n",
              "        78.,  93., 252., 150.,  77., 208.,  77., 108., 160.,  53., 220.,\n",
              "       154., 259.,  90., 246., 124.,  67.,  72., 257., 262., 275., 177.,\n",
              "        71.,  47., 187., 125.,  78.,  51., 258., 215., 303., 243.,  91.,\n",
              "       150., 310., 153., 346.,  63.,  89.,  50.,  39., 103., 308., 116.,\n",
              "       145.,  74.,  45., 115., 264.,  87., 202., 127., 182., 241.,  66.,\n",
              "        94., 283.,  64., 102., 200., 265.,  94., 230., 181., 156., 233.,\n",
              "        60., 219.,  80.,  68., 332., 248.,  84., 200.,  55.,  85.,  89.,\n",
              "        31., 129.,  83., 275.,  65., 198., 236., 253., 124.,  44., 172.,\n",
              "       114., 142., 109., 180., 144., 163., 147.,  97., 220., 190., 109.,\n",
              "       191., 122., 230., 242., 248., 249., 192., 131., 237.,  78., 135.,\n",
              "       244., 199., 270., 164.,  72.,  96., 306.,  91., 214.,  95., 216.,\n",
              "       263., 178., 113., 200., 139., 139.,  88., 148.,  88., 243.,  71.,\n",
              "        77., 109., 272.,  60.,  54., 221.,  90., 311., 281., 182., 321.,\n",
              "        58., 262., 206., 233., 242., 123., 167.,  63., 197.,  71., 168.,\n",
              "       140., 217., 121., 235., 245.,  40.,  52., 104., 132.,  88.,  69.,\n",
              "       219.,  72., 201., 110.,  51., 277.,  63., 118.,  69., 273., 258.,\n",
              "        43., 198., 242., 232., 175.,  93., 168., 275., 293., 281.,  72.,\n",
              "       140., 189., 181., 209., 136., 261., 113., 131., 174., 257.,  55.,\n",
              "        84.,  42., 146., 212., 233.,  91., 111., 152., 120.,  67., 310.,\n",
              "        94., 183.,  66., 173.,  72.,  49.,  64.,  48., 178., 104., 132.,\n",
              "       220.,  57.])"
            ]
          },
          "metadata": {},
          "execution_count": 9
        }
      ]
    },
    {
      "cell_type": "code",
      "source": [
        "print(type(d.data))\n",
        "print(type(d.target))"
      ],
      "metadata": {
        "colab": {
          "base_uri": "https://localhost:8080/"
        },
        "id": "bfvChEcUHUuk",
        "outputId": "da4cde27-d5d8-470a-ebb7-5124789aec5f"
      },
      "execution_count": 13,
      "outputs": [
        {
          "output_type": "stream",
          "name": "stdout",
          "text": [
            "<class 'numpy.ndarray'>\n",
            "<class 'numpy.ndarray'>\n"
          ]
        }
      ]
    },
    {
      "cell_type": "code",
      "source": [
        "d.data.shape"
      ],
      "metadata": {
        "colab": {
          "base_uri": "https://localhost:8080/"
        },
        "id": "K-QGJ4T-ISW9",
        "outputId": "0e64f48e-8d73-476b-9cac-30e40f91da35"
      },
      "execution_count": 14,
      "outputs": [
        {
          "output_type": "execute_result",
          "data": {
            "text/plain": [
              "(442, 10)"
            ]
          },
          "metadata": {},
          "execution_count": 14
        }
      ]
    },
    {
      "cell_type": "code",
      "source": [
        "#split the data\n",
        "X_train, X_test, y_train, y_test = train_test_split(d.data, d.target, test_size=0.2, random_state=41)"
      ],
      "metadata": {
        "id": "Xqn2oiFkIWKR"
      },
      "execution_count": 15,
      "outputs": []
    },
    {
      "cell_type": "code",
      "source": [
        "X_train.shape, X_test.shape"
      ],
      "metadata": {
        "colab": {
          "base_uri": "https://localhost:8080/"
        },
        "id": "F_ZEt8SSIhdG",
        "outputId": "61858ee0-260f-48ac-a80e-c98ce0a74b04"
      },
      "execution_count": 16,
      "outputs": [
        {
          "output_type": "execute_result",
          "data": {
            "text/plain": [
              "((353, 10), (89, 10))"
            ]
          },
          "metadata": {},
          "execution_count": 16
        }
      ]
    },
    {
      "cell_type": "code",
      "source": [
        "#train the model\n",
        "knn = KNeighborsClassifier(n_neighbors=1)\n",
        "knn.fit(X_train, y_train)"
      ],
      "metadata": {
        "colab": {
          "base_uri": "https://localhost:8080/"
        },
        "id": "41YYXu7HIkL7",
        "outputId": "376b1597-895f-4d42-9a0a-d09e232872f8"
      },
      "execution_count": 17,
      "outputs": [
        {
          "output_type": "execute_result",
          "data": {
            "text/plain": [
              "KNeighborsClassifier(n_neighbors=1)"
            ]
          },
          "metadata": {},
          "execution_count": 17
        }
      ]
    },
    {
      "cell_type": "code",
      "source": [
        "y_pred = knn.predict(X_test)"
      ],
      "metadata": {
        "id": "DKns2HnwIveQ"
      },
      "execution_count": 18,
      "outputs": []
    },
    {
      "cell_type": "code",
      "source": [
        "knn.score(X_train, y_train), knn.score(X_test, y_test)"
      ],
      "metadata": {
        "colab": {
          "base_uri": "https://localhost:8080/"
        },
        "id": "G4D6lu6dIvuo",
        "outputId": "ca38af37-0c27-4835-c106-73cb8cbb48b8"
      },
      "execution_count": 19,
      "outputs": [
        {
          "output_type": "execute_result",
          "data": {
            "text/plain": [
              "(1.0, 0.02247191011235955)"
            ]
          },
          "metadata": {},
          "execution_count": 19
        }
      ]
    },
    {
      "cell_type": "code",
      "source": [
        "#train the model\n",
        "knn = KNeighborsClassifier(n_neighbors=5)\n",
        "knn.fit(X_train, y_train)\n",
        "y_pred = knn.predict(X_test)\n",
        "print(knn.score(X_train, y_train), knn.score(X_test, y_test))"
      ],
      "metadata": {
        "colab": {
          "base_uri": "https://localhost:8080/"
        },
        "id": "uDsgIcpFI32T",
        "outputId": "44d9d33d-a172-4480-b9e8-3704173e0593"
      },
      "execution_count": 20,
      "outputs": [
        {
          "output_type": "stream",
          "name": "stdout",
          "text": [
            "0.16997167138810199 0.0\n"
          ]
        }
      ]
    },
    {
      "cell_type": "code",
      "source": [
        "confusion_matrix(y_test, y_pred)"
      ],
      "metadata": {
        "colab": {
          "base_uri": "https://localhost:8080/"
        },
        "id": "G7eXk65lI8nI",
        "outputId": "d8183a9e-685a-4ffe-de52-66406636e41a"
      },
      "execution_count": 21,
      "outputs": [
        {
          "output_type": "execute_result",
          "data": {
            "text/plain": [
              "array([[0, 0, 0, ..., 0, 0, 0],\n",
              "       [0, 0, 0, ..., 0, 0, 0],\n",
              "       [0, 0, 0, ..., 0, 0, 0],\n",
              "       ...,\n",
              "       [0, 0, 0, ..., 0, 0, 0],\n",
              "       [0, 0, 0, ..., 0, 0, 0],\n",
              "       [0, 0, 0, ..., 0, 0, 0]])"
            ]
          },
          "metadata": {},
          "execution_count": 21
        }
      ]
    },
    {
      "cell_type": "code",
      "source": [
        "print(classification_report(y_test, y_pred))\n"
      ],
      "metadata": {
        "colab": {
          "base_uri": "https://localhost:8080/"
        },
        "id": "oQqUijHkJBX_",
        "outputId": "cfa96005-a0c0-487c-f429-6667e1dc5011"
      },
      "execution_count": 22,
      "outputs": [
        {
          "output_type": "stream",
          "name": "stdout",
          "text": [
            "              precision    recall  f1-score   support\n",
            "\n",
            "        25.0       0.00      0.00      0.00       0.0\n",
            "        31.0       0.00      0.00      0.00       0.0\n",
            "        39.0       0.00      0.00      0.00       0.0\n",
            "        40.0       0.00      0.00      0.00       1.0\n",
            "        42.0       0.00      0.00      0.00       0.0\n",
            "        43.0       0.00      0.00      0.00       0.0\n",
            "        44.0       0.00      0.00      0.00       0.0\n",
            "        47.0       0.00      0.00      0.00       1.0\n",
            "        48.0       0.00      0.00      0.00       2.0\n",
            "        49.0       0.00      0.00      0.00       0.0\n",
            "        50.0       0.00      0.00      0.00       1.0\n",
            "        51.0       0.00      0.00      0.00       0.0\n",
            "        52.0       0.00      0.00      0.00       1.0\n",
            "        53.0       0.00      0.00      0.00       1.0\n",
            "        54.0       0.00      0.00      0.00       0.0\n",
            "        55.0       0.00      0.00      0.00       1.0\n",
            "        57.0       0.00      0.00      0.00       1.0\n",
            "        58.0       0.00      0.00      0.00       1.0\n",
            "        59.0       0.00      0.00      0.00       0.0\n",
            "        60.0       0.00      0.00      0.00       1.0\n",
            "        61.0       0.00      0.00      0.00       1.0\n",
            "        63.0       0.00      0.00      0.00       0.0\n",
            "        64.0       0.00      0.00      0.00       1.0\n",
            "        65.0       0.00      0.00      0.00       0.0\n",
            "        66.0       0.00      0.00      0.00       0.0\n",
            "        67.0       0.00      0.00      0.00       0.0\n",
            "        68.0       0.00      0.00      0.00       0.0\n",
            "        69.0       0.00      0.00      0.00       0.0\n",
            "        70.0       0.00      0.00      0.00       1.0\n",
            "        71.0       0.00      0.00      0.00       1.0\n",
            "        72.0       0.00      0.00      0.00       1.0\n",
            "        77.0       0.00      0.00      0.00       1.0\n",
            "        81.0       0.00      0.00      0.00       0.0\n",
            "        83.0       0.00      0.00      0.00       1.0\n",
            "        84.0       0.00      0.00      0.00       1.0\n",
            "        85.0       0.00      0.00      0.00       2.0\n",
            "        88.0       0.00      0.00      0.00       1.0\n",
            "        90.0       0.00      0.00      0.00       1.0\n",
            "        91.0       0.00      0.00      0.00       1.0\n",
            "        93.0       0.00      0.00      0.00       0.0\n",
            "        99.0       0.00      0.00      0.00       0.0\n",
            "       101.0       0.00      0.00      0.00       1.0\n",
            "       102.0       0.00      0.00      0.00       2.0\n",
            "       104.0       0.00      0.00      0.00       1.0\n",
            "       107.0       0.00      0.00      0.00       0.0\n",
            "       113.0       0.00      0.00      0.00       1.0\n",
            "       116.0       0.00      0.00      0.00       1.0\n",
            "       120.0       0.00      0.00      0.00       0.0\n",
            "       121.0       0.00      0.00      0.00       1.0\n",
            "       123.0       0.00      0.00      0.00       1.0\n",
            "       127.0       0.00      0.00      0.00       0.0\n",
            "       128.0       0.00      0.00      0.00       1.0\n",
            "       131.0       0.00      0.00      0.00       1.0\n",
            "       132.0       0.00      0.00      0.00       1.0\n",
            "       134.0       0.00      0.00      0.00       1.0\n",
            "       138.0       0.00      0.00      0.00       0.0\n",
            "       139.0       0.00      0.00      0.00       0.0\n",
            "       142.0       0.00      0.00      0.00       1.0\n",
            "       144.0       0.00      0.00      0.00       1.0\n",
            "       150.0       0.00      0.00      0.00       2.0\n",
            "       151.0       0.00      0.00      0.00       1.0\n",
            "       152.0       0.00      0.00      0.00       0.0\n",
            "       162.0       0.00      0.00      0.00       1.0\n",
            "       163.0       0.00      0.00      0.00       0.0\n",
            "       164.0       0.00      0.00      0.00       0.0\n",
            "       167.0       0.00      0.00      0.00       1.0\n",
            "       170.0       0.00      0.00      0.00       0.0\n",
            "       172.0       0.00      0.00      0.00       1.0\n",
            "       173.0       0.00      0.00      0.00       1.0\n",
            "       174.0       0.00      0.00      0.00       1.0\n",
            "       177.0       0.00      0.00      0.00       1.0\n",
            "       178.0       0.00      0.00      0.00       2.0\n",
            "       180.0       0.00      0.00      0.00       0.0\n",
            "       182.0       0.00      0.00      0.00       2.0\n",
            "       185.0       0.00      0.00      0.00       1.0\n",
            "       186.0       0.00      0.00      0.00       1.0\n",
            "       190.0       0.00      0.00      0.00       1.0\n",
            "       191.0       0.00      0.00      0.00       1.0\n",
            "       192.0       0.00      0.00      0.00       1.0\n",
            "       195.0       0.00      0.00      0.00       0.0\n",
            "       198.0       0.00      0.00      0.00       1.0\n",
            "       199.0       0.00      0.00      0.00       1.0\n",
            "       200.0       0.00      0.00      0.00       1.0\n",
            "       201.0       0.00      0.00      0.00       1.0\n",
            "       202.0       0.00      0.00      0.00       2.0\n",
            "       208.0       0.00      0.00      0.00       1.0\n",
            "       209.0       0.00      0.00      0.00       1.0\n",
            "       215.0       0.00      0.00      0.00       1.0\n",
            "       216.0       0.00      0.00      0.00       1.0\n",
            "       219.0       0.00      0.00      0.00       2.0\n",
            "       220.0       0.00      0.00      0.00       0.0\n",
            "       225.0       0.00      0.00      0.00       1.0\n",
            "       233.0       0.00      0.00      0.00       2.0\n",
            "       235.0       0.00      0.00      0.00       1.0\n",
            "       236.0       0.00      0.00      0.00       1.0\n",
            "       241.0       0.00      0.00      0.00       1.0\n",
            "       243.0       0.00      0.00      0.00       0.0\n",
            "       245.0       0.00      0.00      0.00       0.0\n",
            "       248.0       0.00      0.00      0.00       2.0\n",
            "       249.0       0.00      0.00      0.00       1.0\n",
            "       262.0       0.00      0.00      0.00       1.0\n",
            "       273.0       0.00      0.00      0.00       1.0\n",
            "       275.0       0.00      0.00      0.00       1.0\n",
            "       280.0       0.00      0.00      0.00       1.0\n",
            "       281.0       0.00      0.00      0.00       2.0\n",
            "       283.0       0.00      0.00      0.00       2.0\n",
            "       292.0       0.00      0.00      0.00       1.0\n",
            "       308.0       0.00      0.00      0.00       1.0\n",
            "       310.0       0.00      0.00      0.00       2.0\n",
            "\n",
            "    accuracy                           0.00      89.0\n",
            "   macro avg       0.00      0.00      0.00      89.0\n",
            "weighted avg       0.00      0.00      0.00      89.0\n",
            "\n"
          ]
        },
        {
          "output_type": "stream",
          "name": "stderr",
          "text": [
            "/usr/local/lib/python3.7/dist-packages/sklearn/metrics/_classification.py:1318: UndefinedMetricWarning: Precision and F-score are ill-defined and being set to 0.0 in labels with no predicted samples. Use `zero_division` parameter to control this behavior.\n",
            "  _warn_prf(average, modifier, msg_start, len(result))\n",
            "/usr/local/lib/python3.7/dist-packages/sklearn/metrics/_classification.py:1318: UndefinedMetricWarning: Recall and F-score are ill-defined and being set to 0.0 in labels with no true samples. Use `zero_division` parameter to control this behavior.\n",
            "  _warn_prf(average, modifier, msg_start, len(result))\n",
            "/usr/local/lib/python3.7/dist-packages/sklearn/metrics/_classification.py:1318: UndefinedMetricWarning: Precision and F-score are ill-defined and being set to 0.0 in labels with no predicted samples. Use `zero_division` parameter to control this behavior.\n",
            "  _warn_prf(average, modifier, msg_start, len(result))\n",
            "/usr/local/lib/python3.7/dist-packages/sklearn/metrics/_classification.py:1318: UndefinedMetricWarning: Recall and F-score are ill-defined and being set to 0.0 in labels with no true samples. Use `zero_division` parameter to control this behavior.\n",
            "  _warn_prf(average, modifier, msg_start, len(result))\n",
            "/usr/local/lib/python3.7/dist-packages/sklearn/metrics/_classification.py:1318: UndefinedMetricWarning: Precision and F-score are ill-defined and being set to 0.0 in labels with no predicted samples. Use `zero_division` parameter to control this behavior.\n",
            "  _warn_prf(average, modifier, msg_start, len(result))\n",
            "/usr/local/lib/python3.7/dist-packages/sklearn/metrics/_classification.py:1318: UndefinedMetricWarning: Recall and F-score are ill-defined and being set to 0.0 in labels with no true samples. Use `zero_division` parameter to control this behavior.\n",
            "  _warn_prf(average, modifier, msg_start, len(result))\n"
          ]
        }
      ]
    }
  ]
}